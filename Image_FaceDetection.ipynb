{
 "cells": [
  {
   "cell_type": "code",
   "execution_count": 36,
   "id": "a9a5bf5d",
   "metadata": {},
   "outputs": [
    {
     "name": "stdout",
     "output_type": "stream",
     "text": [
      "C:\\Users\\USER\\Desktop\\jupyter notebook\\Yeni Klasör\\23867.jpg\n",
      "C:\\Users\\USER\\Desktop\\jupyter notebook\\Yeni Klasör\\haarcascade_frontalface_default.xml\n",
      "C:\\Users\\USER\\Desktop\\jupyter notebook\\Yeni Klasör\\IMG_20191124_133301.jpg\n",
      "C:\\Users\\USER\\Desktop\\jupyter notebook\\Yeni Klasör\\Untitled.ipynb\n",
      "C:\\Users\\USER\\Desktop\\jupyter notebook\\Yeni Klasör\\.ipynb_checkpoints\\Untitled-checkpoint.ipynb\n"
     ]
    }
   ],
   "source": [
    "#Kütüphanelerimizi içe aktarıyoruz.\n",
    "import cv2\n",
    "import os\n",
    "\n",
    "#Dosyamızın içini yokluyoruz.\n",
    "for dirname, _, filenames in os.walk(r\"C:\\Users\\USER\\Desktop\\jupyter notebook\\Yeni Klasör\"):\n",
    "    for filename in filenames:\n",
    "        print(os.path.join(dirname, filename))\n",
    "        \n",
    "#Resim Adı.\n",
    "img_path = \"IMG_20191124_133301.jpg\"\n",
    "#Resim Çağırıyoruz\n",
    "img = cv2.imread(img_path)\n",
    "\n",
    "#Resim içinde yüz bulma => haarcascade_frontalface_default.xml\n",
    "face_casc = cv2.CascadeClassifier(\"haarcascade_frontalface_default.xml\")\n",
    "\n",
    "#Resmi gri yapıyoruz.\n",
    "gray = cv2.cvtColor(img,cv2.COLOR_BGR2GRAY)\n",
    "#Resmimize ait çerçevemizi ayarlıyoruz.\n",
    "frame = cv2.resize(gray,dsize=(960,540))\n",
    "#Algılanan nesneler bir dikdörtgen listesi olarak döndürülür.\n",
    "face_rect = face_casc.detectMultiScale(frame,minNeighbors = 4)\n",
    "\n",
    "#Algılanan değerleri bir dikdörtgen haline getiriyoruz.\n",
    "for x,y,w,h in face_rect:\n",
    "    cv2.rectangle(image,(x,y),(x+w,y+h),(0,0,255),2)\n",
    "#Resmimizin üstüne manuel isim yazma\n",
    "cv2.putText(image,\"Hasan\",(280,70),cv2.FONT_HERSHEY_COMPLEX,1,(0,0,255))\n",
    "cv2.putText(image,\"Hamdi\",(580,55),cv2.FONT_HERSHEY_COMPLEX,1,(0,255,255))\n",
    "\n",
    "#Resmimizi açıyoruz\n",
    "cv2.imshow(\"FaceDetect\",image)\n",
    "\n",
    "\n",
    "#Resmimizi kapatıyoruz.\n",
    "cv2.waitKey(0)\n",
    "#Tüm her şeyi kapatıyoruz\n",
    "cv2.destroyAllWindows()"
   ]
  },
  {
   "cell_type": "code",
   "execution_count": 35,
   "id": "b477e825",
   "metadata": {},
   "outputs": [],
   "source": []
  },
  {
   "cell_type": "code",
   "execution_count": null,
   "id": "cdd2e9dc",
   "metadata": {},
   "outputs": [],
   "source": []
  }
 ],
 "metadata": {
  "kernelspec": {
   "display_name": "Python 3 (ipykernel)",
   "language": "python",
   "name": "python3"
  },
  "language_info": {
   "codemirror_mode": {
    "name": "ipython",
    "version": 3
   },
   "file_extension": ".py",
   "mimetype": "text/x-python",
   "name": "python",
   "nbconvert_exporter": "python",
   "pygments_lexer": "ipython3",
   "version": "3.9.13"
  }
 },
 "nbformat": 4,
 "nbformat_minor": 5
}
